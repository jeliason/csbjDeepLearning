{
 "cells": [
  {
   "cell_type": "markdown",
   "id": "f26055ac-6ccc-428f-accf-09ae8f14f5de",
   "metadata": {},
   "source": [
    "### Exploring the dataset"
   ]
  },
  {
   "cell_type": "code",
   "execution_count": 1,
   "id": "d6d34194-5942-479d-90c3-3e0cde2ff3cb",
   "metadata": {},
   "outputs": [],
   "source": [
    "import pickle"
   ]
  },
  {
   "cell_type": "code",
   "execution_count": 2,
   "id": "5a3b1110-38cc-4cd5-bb18-0c9523a346c5",
   "metadata": {},
   "outputs": [],
   "source": [
    "d = pickle.load(open('demo/ibm_data_by_density_70.pkl','rb'))"
   ]
  },
  {
   "cell_type": "code",
   "execution_count": 8,
   "id": "93a7103f-41fa-4432-a81d-aed796a9faef",
   "metadata": {},
   "outputs": [
    {
     "data": {
      "text/plain": [
       "5000"
      ]
     },
     "execution_count": 8,
     "metadata": {},
     "output_type": "execute_result"
    }
   ],
   "source": [
    "len(d)"
   ]
  },
  {
   "cell_type": "code",
   "execution_count": 9,
   "id": "880ed60a-fd32-41fc-bf63-1278a1fc1815",
   "metadata": {},
   "outputs": [
    {
     "data": {
      "text/plain": [
       "{'params': {'distribution': 'u',\n",
       "  'xfinal': 1,\n",
       "  'yfinal': 1,\n",
       "  'hx': 0.01,\n",
       "  'hy': 0.01,\n",
       "  'nx': 100,\n",
       "  'ny': 100,\n",
       "  'ru0': 0.09685262023306523,\n",
       "  'rv0': 0.005930920579841026,\n",
       "  'chi': 0.6295650979811824,\n",
       "  'ruv': 0.7957520036009231,\n",
       "  'rvu': 0.017162220258557515,\n",
       "  'nr': 1,\n",
       "  'initInoculum': 0.05,\n",
       "  'tfinal': 200,\n",
       "  'itermax': 6500},\n",
       " 'matrix': array([[ 1,  1,  1, ..., -1,  1,  1],\n",
       "        [ 1,  1,  1, ...,  1, -1,  1],\n",
       "        [ 1,  1,  1, ...,  1,  1,  1],\n",
       "        ...,\n",
       "        [ 1,  1,  1, ...,  1,  1,  1],\n",
       "        [ 1,  1,  1, ...,  1,  1,  1],\n",
       "        [ 1,  1,  1, ..., -1,  1,  1]], dtype=int8),\n",
       " 'filename': 'x1x2Train_1.mat',\n",
       " 'density': 69.5,\n",
       " 'sum': 6230}"
      ]
     },
     "execution_count": 9,
     "metadata": {},
     "output_type": "execute_result"
    }
   ],
   "source": [
    "d[0]"
   ]
  },
  {
   "cell_type": "code",
   "execution_count": 10,
   "id": "0e96a384-5e68-4b00-b951-5c8ee636691a",
   "metadata": {},
   "outputs": [
    {
     "data": {
      "text/plain": [
       "(100, 100)"
      ]
     },
     "execution_count": 10,
     "metadata": {},
     "output_type": "execute_result"
    }
   ],
   "source": [
    "d[0]['matrix'].shape"
   ]
  },
  {
   "cell_type": "code",
   "execution_count": 11,
   "id": "4ea3c23e-7602-4928-8073-8528787b4ddf",
   "metadata": {},
   "outputs": [
    {
     "data": {
      "text/plain": [
       "{'params': {'distribution': 'u',\n",
       "  'xfinal': 1,\n",
       "  'yfinal': 1,\n",
       "  'hx': 0.01,\n",
       "  'hy': 0.01,\n",
       "  'nx': 100,\n",
       "  'ny': 100,\n",
       "  'ru0': 0.0928376125467858,\n",
       "  'rv0': 0.03486058192785403,\n",
       "  'chi': 0.7502290373334106,\n",
       "  'ruv': -0.8965907992942508,\n",
       "  'rvu': 0.9341579530317903,\n",
       "  'nr': 4,\n",
       "  'initInoculum': 0.05,\n",
       "  'tfinal': 200,\n",
       "  'itermax': 6500},\n",
       " 'matrix': array([[-1, -1,  0, ..., -1, -1, -1],\n",
       "        [-1, -1, -1, ..., -1, -1, -1],\n",
       "        [-1, -1, -1, ..., -1, -1, -1],\n",
       "        ...,\n",
       "        [-1, -1,  0, ..., -1, -1, -1],\n",
       "        [-1, -1, -1, ..., -1, -1, -1],\n",
       "        [-1, -1,  0, ..., -1, -1, -1]], dtype=int8),\n",
       " 'filename': 'x1x2Train_10.mat',\n",
       " 'density': 70.30999999999999,\n",
       " 'sum': -4841}"
      ]
     },
     "execution_count": 11,
     "metadata": {},
     "output_type": "execute_result"
    }
   ],
   "source": [
    "d[1]"
   ]
  },
  {
   "cell_type": "code",
   "execution_count": 12,
   "id": "e6549f11-f0df-4a1b-a4bb-3aa9eb076e17",
   "metadata": {},
   "outputs": [
    {
     "data": {
      "text/plain": [
       "(100, 100)"
      ]
     },
     "execution_count": 12,
     "metadata": {},
     "output_type": "execute_result"
    }
   ],
   "source": [
    "d[1]['matrix'].shape"
   ]
  },
  {
   "cell_type": "code",
   "execution_count": 14,
   "id": "4ad344cb-16a2-450c-89b3-812fc51fff33",
   "metadata": {},
   "outputs": [],
   "source": [
    "count_100 = 0\n",
    "for df in d:\n",
    "    if df['matrix'].shape == (100,100):\n",
    "        count_100 +=1\n",
    "    else:\n",
    "        print(df['matrix'].shape)\n",
    "        break"
   ]
  },
  {
   "cell_type": "code",
   "execution_count": 15,
   "id": "376304bf-ea25-459a-9e7d-d4b7e0fb7af3",
   "metadata": {},
   "outputs": [
    {
     "data": {
      "text/plain": [
       "5000"
      ]
     },
     "execution_count": 15,
     "metadata": {},
     "output_type": "execute_result"
    }
   ],
   "source": [
    "count_100"
   ]
  },
  {
   "cell_type": "code",
   "execution_count": 16,
   "id": "49586428-b2a1-4819-a4a3-9c4d4dcc86a9",
   "metadata": {},
   "outputs": [
    {
     "data": {
      "text/plain": [
       "{'params': {'distribution': 'u',\n",
       "  'xfinal': 1,\n",
       "  'yfinal': 1,\n",
       "  'hx': 0.01,\n",
       "  'hy': 0.01,\n",
       "  'nx': 100,\n",
       "  'ny': 100,\n",
       "  'ru0': 0.08175397566090267,\n",
       "  'rv0': 0.013170890464703168,\n",
       "  'chi': 0.9066712900867455,\n",
       "  'ruv': 0.36228851616897373,\n",
       "  'rvu': -0.31255375046551404,\n",
       "  'nr': 2,\n",
       "  'initInoculum': 0.05,\n",
       "  'tfinal': 200,\n",
       "  'itermax': 6500},\n",
       " 'matrix': array([[1, 1, 1, ..., 0, 1, 1],\n",
       "        [1, 1, 1, ..., 1, 1, 1],\n",
       "        [1, 1, 1, ..., 1, 1, 1],\n",
       "        ...,\n",
       "        [1, 1, 1, ..., 1, 1, 1],\n",
       "        [1, 1, 1, ..., 0, 1, 1],\n",
       "        [1, 1, 1, ..., 0, 1, 1]], dtype=int8),\n",
       " 'filename': 'x1x2Train_3252.mat',\n",
       " 'density': 69.56,\n",
       " 'sum': 6312}"
      ]
     },
     "execution_count": 16,
     "metadata": {},
     "output_type": "execute_result"
    }
   ],
   "source": [
    "d[2500]"
   ]
  },
  {
   "cell_type": "markdown",
   "id": "04da1e3a-5fa6-4f20-b226-cfae7df63c6b",
   "metadata": {},
   "source": [
    "### Putting model together"
   ]
  },
  {
   "cell_type": "code",
   "execution_count": 3,
   "id": "fc6e13f0-215e-4b08-9f97-39960635f5d0",
   "metadata": {},
   "outputs": [],
   "source": [
    "import dl_code.data_loader as data_loader\n",
    "import dl_code.model as model\n",
    "import dl_code.train as train\n",
    "import dl_code.hyperopt as hyperopt"
   ]
  },
  {
   "cell_type": "code",
   "execution_count": 4,
   "id": "120ae70c-f90f-4a4c-9823-cafe75305b71",
   "metadata": {},
   "outputs": [],
   "source": [
    "import importlib\n",
    "importlib.reload(model)\n",
    "importlib.reload(data_loader)\n",
    "importlib.reload(train)\n",
    "importlib.reload(hyperopt)\n",
    "import dl_code.data_loader as data_loader\n",
    "import dl_code.model as model\n",
    "import dl_code.train as train\n",
    "import dl_code.hyperopt as hyperopt"
   ]
  },
  {
   "cell_type": "code",
   "execution_count": 8,
   "id": "3edc2074-e3d1-43f9-b050-cd49984d5bdb",
   "metadata": {},
   "outputs": [
    {
     "ename": "TypeError",
     "evalue": "get_train_valid_split() missing 6 required positional arguments: 'to_tensor', 'valid_split', 'batch_size', 'valid_batch_size', 'mean_for_normalize', and 'std_for_normalize'",
     "output_type": "error",
     "traceback": [
      "\u001b[0;31m---------------------------------------------------------------------------\u001b[0m",
      "\u001b[0;31mTypeError\u001b[0m                                 Traceback (most recent call last)",
      "\u001b[0;32m/tmp/ipykernel_66147/957600162.py\u001b[0m in \u001b[0;36m<module>\u001b[0;34m\u001b[0m\n\u001b[0;32m----> 1\u001b[0;31m \u001b[0mdata\u001b[0m\u001b[0;34m,\u001b[0m \u001b[0mtrain_loader\u001b[0m\u001b[0;34m,\u001b[0m \u001b[0mvalid_loader\u001b[0m \u001b[0;34m=\u001b[0m \u001b[0mdata_loader\u001b[0m\u001b[0;34m.\u001b[0m\u001b[0mget_train_valid_split\u001b[0m\u001b[0;34m(\u001b[0m\u001b[0md\u001b[0m\u001b[0;34m)\u001b[0m\u001b[0;34m\u001b[0m\u001b[0;34m\u001b[0m\u001b[0m\n\u001b[0m",
      "\u001b[0;31mTypeError\u001b[0m: get_train_valid_split() missing 6 required positional arguments: 'to_tensor', 'valid_split', 'batch_size', 'valid_batch_size', 'mean_for_normalize', and 'std_for_normalize'"
     ]
    }
   ],
   "source": [
    "data, train_loader, valid_loader = data_loader.get_train_valid_split(d)"
   ]
  },
  {
   "cell_type": "code",
   "execution_count": 11,
   "id": "4057a5ec-67f0-401d-a0cd-b20cb8850e68",
   "metadata": {},
   "outputs": [
    {
     "data": {
      "text/plain": [
       "5000"
      ]
     },
     "execution_count": 11,
     "metadata": {},
     "output_type": "execute_result"
    }
   ],
   "source": [
    "len(data)"
   ]
  },
  {
   "cell_type": "code",
   "execution_count": null,
   "id": "c11f55bf-1b6e-4efe-b49f-e835631385f7",
   "metadata": {},
   "outputs": [],
   "source": []
  },
  {
   "cell_type": "code",
   "execution_count": 16,
   "id": "d5ca5133-1c18-4f8c-97c0-50f1c5d1e865",
   "metadata": {},
   "outputs": [
    {
     "ename": "TypeError",
     "evalue": "__init__() missing 6 required positional arguments: 'train_loader', 'valid_loader', 'hyperparams', 'optimize_fn', 'loss_fn', and 'random_seed'",
     "output_type": "error",
     "traceback": [
      "\u001b[0;31m---------------------------------------------------------------------------\u001b[0m",
      "\u001b[0;31mTypeError\u001b[0m                                 Traceback (most recent call last)",
      "\u001b[0;32m/tmp/ipykernel_63614/2234480054.py\u001b[0m in \u001b[0;36m<module>\u001b[0;34m\u001b[0m\n\u001b[0;32m----> 1\u001b[0;31m \u001b[0mm\u001b[0m \u001b[0;34m=\u001b[0m \u001b[0mtrain\u001b[0m\u001b[0;34m.\u001b[0m\u001b[0mInteractionValueModel\u001b[0m\u001b[0;34m(\u001b[0m\u001b[0;34m)\u001b[0m\u001b[0;34m\u001b[0m\u001b[0;34m\u001b[0m\u001b[0m\n\u001b[0m",
      "\u001b[0;32m~/Dropbox (University of Michigan)/Projects/csbjDeepLearning/dl_code/train.py\u001b[0m in \u001b[0;36m__init__\u001b[0;34m(self, **kw)\u001b[0m\n\u001b[1;32m    236\u001b[0m \u001b[0;32mclass\u001b[0m \u001b[0mInteractionValueModel\u001b[0m\u001b[0;34m(\u001b[0m\u001b[0mDLTrainModule\u001b[0m\u001b[0;34m)\u001b[0m\u001b[0;34m:\u001b[0m\u001b[0;34m\u001b[0m\u001b[0;34m\u001b[0m\u001b[0m\n\u001b[1;32m    237\u001b[0m     \u001b[0;32mdef\u001b[0m \u001b[0m__init__\u001b[0m\u001b[0;34m(\u001b[0m\u001b[0mself\u001b[0m\u001b[0;34m,\u001b[0m \u001b[0;34m**\u001b[0m\u001b[0mkw\u001b[0m\u001b[0;34m)\u001b[0m\u001b[0;34m:\u001b[0m\u001b[0;34m\u001b[0m\u001b[0;34m\u001b[0m\u001b[0m\n\u001b[0;32m--> 238\u001b[0;31m         \u001b[0msuper\u001b[0m\u001b[0;34m(\u001b[0m\u001b[0;34m)\u001b[0m\u001b[0;34m.\u001b[0m\u001b[0m__init__\u001b[0m\u001b[0;34m(\u001b[0m\u001b[0;34m**\u001b[0m\u001b[0mkw\u001b[0m\u001b[0;34m)\u001b[0m\u001b[0;34m\u001b[0m\u001b[0;34m\u001b[0m\u001b[0m\n\u001b[0m\u001b[1;32m    239\u001b[0m \u001b[0;34m\u001b[0m\u001b[0m\n\u001b[1;32m    240\u001b[0m     \u001b[0;32mdef\u001b[0m \u001b[0mbuild_model\u001b[0m\u001b[0;34m(\u001b[0m\u001b[0mself\u001b[0m\u001b[0;34m,\u001b[0m \u001b[0mverbose\u001b[0m\u001b[0;34m=\u001b[0m\u001b[0;32mFalse\u001b[0m\u001b[0;34m)\u001b[0m\u001b[0;34m:\u001b[0m\u001b[0;34m\u001b[0m\u001b[0;34m\u001b[0m\u001b[0m\n",
      "\u001b[0;31mTypeError\u001b[0m: __init__() missing 6 required positional arguments: 'train_loader', 'valid_loader', 'hyperparams', 'optimize_fn', 'loss_fn', and 'random_seed'"
     ]
    }
   ],
   "source": [
    "m = train.InteractionValueModel(train_loader, valid_loader, )"
   ]
  },
  {
   "cell_type": "code",
   "execution_count": 8,
   "id": "daed7693-6ead-4a41-9b15-e98a3cf15fe4",
   "metadata": {},
   "outputs": [
    {
     "name": "stdout",
     "output_type": "stream",
     "text": [
      "InteractionValueNet(\n",
      "  (conv_layers): Sequential(\n",
      "    (0): Conv2d(1, 16, kernel_size=(3, 3), stride=(1, 1))\n",
      "    (1): ReLU(inplace=True)\n",
      "    (2): BatchNorm2d(16, eps=1e-05, momentum=0.1, affine=True, track_running_stats=True)\n",
      "    (3): MaxPool2d(kernel_size=2, stride=2, padding=0, dilation=1, ceil_mode=False)\n",
      "    (4): Conv2d(16, 32, kernel_size=(3, 3), stride=(1, 1))\n",
      "    (5): ReLU(inplace=True)\n",
      "    (6): BatchNorm2d(32, eps=1e-05, momentum=0.1, affine=True, track_running_stats=True)\n",
      "    (7): MaxPool2d(kernel_size=2, stride=2, padding=0, dilation=1, ceil_mode=False)\n",
      "    (8): Conv2d(32, 64, kernel_size=(3, 3), stride=(1, 1))\n",
      "    (9): ReLU(inplace=True)\n",
      "    (10): BatchNorm2d(64, eps=1e-05, momentum=0.1, affine=True, track_running_stats=True)\n",
      "    (11): MaxPool2d(kernel_size=2, stride=2, padding=0, dilation=1, ceil_mode=False)\n",
      "  )\n",
      "  (dense_layers): Sequential(\n",
      "    (0): Linear(in_features=6400, out_features=1000, bias=True)\n",
      "    (1): ReLU(inplace=True)\n",
      "    (2): Dropout(p=0.5, inplace=False)\n",
      "    (3): Linear(in_features=1000, out_features=100, bias=True)\n",
      "    (4): ReLU(inplace=True)\n",
      "    (5): Dropout(p=0.5, inplace=False)\n",
      "    (6): Linear(in_features=100, out_features=100, bias=True)\n",
      "    (7): ReLU(inplace=True)\n",
      "    (8): Dropout(p=0.5, inplace=False)\n",
      "    (9): Linear(in_features=100, out_features=2, bias=True)\n",
      "  )\n",
      ")\n",
      "output size: torch.Size([1, 2])\n"
     ]
    }
   ],
   "source": [
    "model.model_test(model.InteractionValueNet)"
   ]
  },
  {
   "cell_type": "code",
   "execution_count": null,
   "id": "f67006a4-e7f9-419a-878b-e3d527a4eced",
   "metadata": {},
   "outputs": [
    {
     "name": "stdout",
     "output_type": "stream",
     "text": [
      "user_params['conv_config']: 6\n",
      "Data loaded, train_data:4000, test_data:1000 (20.00%)\n",
      "train_mean: 0.00107485 train_std: 0.8368467868716937\n",
      "num param sets: 4\n",
      "----------------------------------------------------------------------------------------------------\n",
      "0 {'batch_size': 64, 'conv_config_num': 1, 'conv_kernel_size': 3, 'conv_stride': 1, 'fc1_nodes': 500, 'fc2_nodes': 50, 'fc3_nodes': 0, 'lr': 0.001, 'maxpool_kernel_size': 2, 'maxpool_stride': 2, 'weight_decay': 0}\n",
      "----------------------------------------------------------------------------------------------------\n",
      "| ID | GPU | MEM |\n",
      "------------------\n"
     ]
    }
   ],
   "source": [
    "import torch.optim as optim\n",
    "\n",
    "hyperopt.run_resnet(n_params=None, fin=\"./demo/ibm_data_by_density_70.pkl\", fout='test.pkl', density=70, custom_params=None, optimizer=optim.Adam)"
   ]
  },
  {
   "cell_type": "code",
   "execution_count": null,
   "id": "7e57dd9e-1974-4cfc-a055-4676191e168a",
   "metadata": {},
   "outputs": [],
   "source": []
  }
 ],
 "metadata": {
  "kernelspec": {
   "display_name": "Python 3 (ipykernel)",
   "language": "python",
   "name": "python3"
  },
  "language_info": {
   "codemirror_mode": {
    "name": "ipython",
    "version": 3
   },
   "file_extension": ".py",
   "mimetype": "text/x-python",
   "name": "python",
   "nbconvert_exporter": "python",
   "pygments_lexer": "ipython3",
   "version": "3.9.7"
  }
 },
 "nbformat": 4,
 "nbformat_minor": 5
}
