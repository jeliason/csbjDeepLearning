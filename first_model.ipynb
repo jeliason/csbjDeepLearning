{
 "cells": [
  {
   "cell_type": "markdown",
   "id": "e9fdd757",
   "metadata": {
    "colab_type": "text",
    "id": "view-in-github"
   },
   "source": [
    "<a href=\"https://colab.research.google.com/github/jeliason/csbjDeepLearning/blob/master/first_model.ipynb\" target=\"_parent\"><img src=\"https://colab.research.google.com/assets/colab-badge.svg\" alt=\"Open In Colab\"/></a>"
   ]
  },
  {
   "cell_type": "markdown",
   "id": "f26055ac-6ccc-428f-accf-09ae8f14f5de",
   "metadata": {
    "id": "f26055ac-6ccc-428f-accf-09ae8f14f5de"
   },
   "source": [
    "### Exploring the dataset"
   ]
  },
  {
   "cell_type": "code",
   "execution_count": 1,
   "id": "d6d34194-5942-479d-90c3-3e0cde2ff3cb",
   "metadata": {
    "id": "d6d34194-5942-479d-90c3-3e0cde2ff3cb"
   },
   "outputs": [],
   "source": [
    "import pickle"
   ]
  },
  {
   "cell_type": "code",
   "execution_count": 3,
   "id": "sIc3EdtLmpj8",
   "metadata": {
    "colab": {
     "base_uri": "https://localhost:8080/"
    },
    "id": "sIc3EdtLmpj8",
    "outputId": "c08f9645-852f-4107-9781-0d1b6b57a226"
   },
   "outputs": [
    {
     "name": "stdout",
     "output_type": "stream",
     "text": [
      "Cloning into 'csbjDeepLearning'...\n",
      "remote: Enumerating objects: 42, done.\u001b[K\n",
      "remote: Counting objects: 100% (42/42), done.\u001b[K\n",
      "remote: Compressing objects: 100% (36/36), done.\u001b[K\n",
      "remote: Total 42 (delta 10), reused 36 (delta 4), pack-reused 0\u001b[K\n",
      "Unpacking objects: 100% (42/42), done.\n"
     ]
    }
   ],
   "source": [
    "!git clone https://github.com/jeliason/csbjDeepLearning.git"
   ]
  },
  {
   "cell_type": "code",
   "execution_count": null,
   "id": "5a3b1110-38cc-4cd5-bb18-0c9523a346c5",
   "metadata": {
    "id": "5a3b1110-38cc-4cd5-bb18-0c9523a346c5"
   },
   "outputs": [],
   "source": [
    "d = pickle.load(open('demo/ibm_data_by_density_70.pkl','rb'))"
   ]
  },
  {
   "cell_type": "code",
   "execution_count": null,
   "id": "93a7103f-41fa-4432-a81d-aed796a9faef",
   "metadata": {
    "id": "93a7103f-41fa-4432-a81d-aed796a9faef",
    "outputId": "d6c04d5b-8677-4ece-fd70-780469a81844"
   },
   "outputs": [
    {
     "data": {
      "text/plain": [
       "5000"
      ]
     },
     "execution_count": 8,
     "metadata": {},
     "output_type": "execute_result"
    }
   ],
   "source": [
    "len(d)"
   ]
  },
  {
   "cell_type": "code",
   "execution_count": null,
   "id": "880ed60a-fd32-41fc-bf63-1278a1fc1815",
   "metadata": {
    "id": "880ed60a-fd32-41fc-bf63-1278a1fc1815",
    "outputId": "72f81894-dbe5-47e0-b795-d4d29c243473"
   },
   "outputs": [
    {
     "data": {
      "text/plain": [
       "{'params': {'distribution': 'u',\n",
       "  'xfinal': 1,\n",
       "  'yfinal': 1,\n",
       "  'hx': 0.01,\n",
       "  'hy': 0.01,\n",
       "  'nx': 100,\n",
       "  'ny': 100,\n",
       "  'ru0': 0.09685262023306523,\n",
       "  'rv0': 0.005930920579841026,\n",
       "  'chi': 0.6295650979811824,\n",
       "  'ruv': 0.7957520036009231,\n",
       "  'rvu': 0.017162220258557515,\n",
       "  'nr': 1,\n",
       "  'initInoculum': 0.05,\n",
       "  'tfinal': 200,\n",
       "  'itermax': 6500},\n",
       " 'matrix': array([[ 1,  1,  1, ..., -1,  1,  1],\n",
       "        [ 1,  1,  1, ...,  1, -1,  1],\n",
       "        [ 1,  1,  1, ...,  1,  1,  1],\n",
       "        ...,\n",
       "        [ 1,  1,  1, ...,  1,  1,  1],\n",
       "        [ 1,  1,  1, ...,  1,  1,  1],\n",
       "        [ 1,  1,  1, ..., -1,  1,  1]], dtype=int8),\n",
       " 'filename': 'x1x2Train_1.mat',\n",
       " 'density': 69.5,\n",
       " 'sum': 6230}"
      ]
     },
     "execution_count": 9,
     "metadata": {},
     "output_type": "execute_result"
    }
   ],
   "source": [
    "d[0]"
   ]
  },
  {
   "cell_type": "code",
   "execution_count": null,
   "id": "0e96a384-5e68-4b00-b951-5c8ee636691a",
   "metadata": {
    "id": "0e96a384-5e68-4b00-b951-5c8ee636691a",
    "outputId": "0fed896c-31e5-4e4b-d6e5-3b12a2f08c0c"
   },
   "outputs": [
    {
     "data": {
      "text/plain": [
       "(100, 100)"
      ]
     },
     "execution_count": 10,
     "metadata": {},
     "output_type": "execute_result"
    }
   ],
   "source": [
    "d[0]['matrix'].shape"
   ]
  },
  {
   "cell_type": "code",
   "execution_count": null,
   "id": "4ea3c23e-7602-4928-8073-8528787b4ddf",
   "metadata": {
    "id": "4ea3c23e-7602-4928-8073-8528787b4ddf",
    "outputId": "54484e2c-a9c4-41d2-84d4-f68524b356cf"
   },
   "outputs": [
    {
     "data": {
      "text/plain": [
       "{'params': {'distribution': 'u',\n",
       "  'xfinal': 1,\n",
       "  'yfinal': 1,\n",
       "  'hx': 0.01,\n",
       "  'hy': 0.01,\n",
       "  'nx': 100,\n",
       "  'ny': 100,\n",
       "  'ru0': 0.0928376125467858,\n",
       "  'rv0': 0.03486058192785403,\n",
       "  'chi': 0.7502290373334106,\n",
       "  'ruv': -0.8965907992942508,\n",
       "  'rvu': 0.9341579530317903,\n",
       "  'nr': 4,\n",
       "  'initInoculum': 0.05,\n",
       "  'tfinal': 200,\n",
       "  'itermax': 6500},\n",
       " 'matrix': array([[-1, -1,  0, ..., -1, -1, -1],\n",
       "        [-1, -1, -1, ..., -1, -1, -1],\n",
       "        [-1, -1, -1, ..., -1, -1, -1],\n",
       "        ...,\n",
       "        [-1, -1,  0, ..., -1, -1, -1],\n",
       "        [-1, -1, -1, ..., -1, -1, -1],\n",
       "        [-1, -1,  0, ..., -1, -1, -1]], dtype=int8),\n",
       " 'filename': 'x1x2Train_10.mat',\n",
       " 'density': 70.30999999999999,\n",
       " 'sum': -4841}"
      ]
     },
     "execution_count": 11,
     "metadata": {},
     "output_type": "execute_result"
    }
   ],
   "source": [
    "d[1]"
   ]
  },
  {
   "cell_type": "code",
   "execution_count": null,
   "id": "e6549f11-f0df-4a1b-a4bb-3aa9eb076e17",
   "metadata": {
    "id": "e6549f11-f0df-4a1b-a4bb-3aa9eb076e17",
    "outputId": "6b90ec7d-12d6-4f69-caa1-aeb7cdd50f7b"
   },
   "outputs": [
    {
     "data": {
      "text/plain": [
       "(100, 100)"
      ]
     },
     "execution_count": 12,
     "metadata": {},
     "output_type": "execute_result"
    }
   ],
   "source": [
    "d[1]['matrix'].shape"
   ]
  },
  {
   "cell_type": "code",
   "execution_count": null,
   "id": "4ad344cb-16a2-450c-89b3-812fc51fff33",
   "metadata": {
    "id": "4ad344cb-16a2-450c-89b3-812fc51fff33"
   },
   "outputs": [],
   "source": [
    "count_100 = 0\n",
    "for df in d:\n",
    "    if df['matrix'].shape == (100,100):\n",
    "        count_100 +=1\n",
    "    else:\n",
    "        print(df['matrix'].shape)\n",
    "        break"
   ]
  },
  {
   "cell_type": "code",
   "execution_count": null,
   "id": "376304bf-ea25-459a-9e7d-d4b7e0fb7af3",
   "metadata": {
    "id": "376304bf-ea25-459a-9e7d-d4b7e0fb7af3",
    "outputId": "72debb9f-404e-460f-db4a-cca9c7690004"
   },
   "outputs": [
    {
     "data": {
      "text/plain": [
       "5000"
      ]
     },
     "execution_count": 15,
     "metadata": {},
     "output_type": "execute_result"
    }
   ],
   "source": [
    "count_100"
   ]
  },
  {
   "cell_type": "code",
   "execution_count": null,
   "id": "49586428-b2a1-4819-a4a3-9c4d4dcc86a9",
   "metadata": {
    "id": "49586428-b2a1-4819-a4a3-9c4d4dcc86a9",
    "outputId": "ee190703-0432-4ba2-ea42-9a8157a07b0a"
   },
   "outputs": [
    {
     "data": {
      "text/plain": [
       "{'params': {'distribution': 'u',\n",
       "  'xfinal': 1,\n",
       "  'yfinal': 1,\n",
       "  'hx': 0.01,\n",
       "  'hy': 0.01,\n",
       "  'nx': 100,\n",
       "  'ny': 100,\n",
       "  'ru0': 0.08175397566090267,\n",
       "  'rv0': 0.013170890464703168,\n",
       "  'chi': 0.9066712900867455,\n",
       "  'ruv': 0.36228851616897373,\n",
       "  'rvu': -0.31255375046551404,\n",
       "  'nr': 2,\n",
       "  'initInoculum': 0.05,\n",
       "  'tfinal': 200,\n",
       "  'itermax': 6500},\n",
       " 'matrix': array([[1, 1, 1, ..., 0, 1, 1],\n",
       "        [1, 1, 1, ..., 1, 1, 1],\n",
       "        [1, 1, 1, ..., 1, 1, 1],\n",
       "        ...,\n",
       "        [1, 1, 1, ..., 1, 1, 1],\n",
       "        [1, 1, 1, ..., 0, 1, 1],\n",
       "        [1, 1, 1, ..., 0, 1, 1]], dtype=int8),\n",
       " 'filename': 'x1x2Train_3252.mat',\n",
       " 'density': 69.56,\n",
       " 'sum': 6312}"
      ]
     },
     "execution_count": 16,
     "metadata": {},
     "output_type": "execute_result"
    }
   ],
   "source": [
    "d[2500]"
   ]
  },
  {
   "cell_type": "markdown",
   "id": "04da1e3a-5fa6-4f20-b226-cfae7df63c6b",
   "metadata": {
    "id": "04da1e3a-5fa6-4f20-b226-cfae7df63c6b"
   },
   "source": [
    "### Putting model together"
   ]
  },
  {
   "cell_type": "code",
   "execution_count": 1,
   "id": "KWNQ1yedn9vm",
   "metadata": {
    "colab": {
     "base_uri": "https://localhost:8080/"
    },
    "id": "KWNQ1yedn9vm",
    "outputId": "7e4de10f-d8eb-4fe8-9ca7-644529e3e901"
   },
   "outputs": [
    {
     "name": "stdout",
     "output_type": "stream",
     "text": [
      "Cloning into 'csbjDeepLearning'...\n",
      "remote: Enumerating objects: 42, done.\u001b[K\n",
      "remote: Counting objects: 100% (42/42), done.\u001b[K\n",
      "remote: Compressing objects: 100% (36/36), done.\u001b[K\n",
      "remote: Total 42 (delta 10), reused 36 (delta 4), pack-reused 0\u001b[K\n",
      "Unpacking objects: 100% (42/42), done.\n"
     ]
    }
   ],
   "source": [
    "!git clone https://github.com/jeliason/csbjDeepLearning.git"
   ]
  },
  {
   "cell_type": "code",
   "execution_count": 2,
   "id": "3_082lpEnmho",
   "metadata": {
    "colab": {
     "base_uri": "https://localhost:8080/"
    },
    "id": "3_082lpEnmho",
    "outputId": "ccf7f476-0b44-43bb-e23c-e10faa82238e"
   },
   "outputs": [
    {
     "name": "stdout",
     "output_type": "stream",
     "text": [
      "Collecting GPUtil\n",
      "  Downloading GPUtil-1.4.0.tar.gz (5.5 kB)\n",
      "Building wheels for collected packages: GPUtil\n",
      "  Building wheel for GPUtil (setup.py) ... \u001b[?25l\u001b[?25hdone\n",
      "  Created wheel for GPUtil: filename=GPUtil-1.4.0-py3-none-any.whl size=7411 sha256=3aa59a2b4571c55d3bba43b19bce77263938570c3da8de8d193bcb3c654f26e8\n",
      "  Stored in directory: /root/.cache/pip/wheels/6e/f8/83/534c52482d6da64622ddbf72cd93c35d2ef2881b78fd08ff0c\n",
      "Successfully built GPUtil\n",
      "Installing collected packages: GPUtil\n",
      "Successfully installed GPUtil-1.4.0\n"
     ]
    }
   ],
   "source": [
    "!pip install GPUtil"
   ]
  },
  {
   "cell_type": "code",
   "execution_count": 12,
   "id": "fc6e13f0-215e-4b08-9f97-39960635f5d0",
   "metadata": {
    "id": "fc6e13f0-215e-4b08-9f97-39960635f5d0"
   },
   "outputs": [],
   "source": [
    "import sys\n",
    "sys.path.insert(0,'./csbjDeepLearning/')\n",
    "import dl_code.data_loader as data_loader\n",
    "import dl_code.model as model\n",
    "import dl_code.train as train\n",
    "import dl_code.hyperopt as hyperopt"
   ]
  },
  {
   "cell_type": "code",
   "execution_count": 14,
   "id": "120ae70c-f90f-4a4c-9823-cafe75305b71",
   "metadata": {
    "id": "120ae70c-f90f-4a4c-9823-cafe75305b71"
   },
   "outputs": [],
   "source": [
    "import importlib\n",
    "importlib.reload(model)\n",
    "importlib.reload(data_loader)\n",
    "importlib.reload(train)\n",
    "importlib.reload(hyperopt)\n",
    "import dl_code.data_loader as data_loader\n",
    "import dl_code.model as model\n",
    "import dl_code.train as train\n",
    "import dl_code.hyperopt as hyperopt"
   ]
  },
  {
   "cell_type": "code",
   "execution_count": null,
   "id": "daed7693-6ead-4a41-9b15-e98a3cf15fe4",
   "metadata": {
    "id": "daed7693-6ead-4a41-9b15-e98a3cf15fe4",
    "outputId": "6ad72361-49ee-4578-b39b-9b2f360ff7c5"
   },
   "outputs": [
    {
     "name": "stdout",
     "output_type": "stream",
     "text": [
      "InteractionValueNet(\n",
      "  (conv_layers): Sequential(\n",
      "    (0): Conv2d(1, 16, kernel_size=(3, 3), stride=(1, 1))\n",
      "    (1): ReLU(inplace=True)\n",
      "    (2): BatchNorm2d(16, eps=1e-05, momentum=0.1, affine=True, track_running_stats=True)\n",
      "    (3): MaxPool2d(kernel_size=2, stride=2, padding=0, dilation=1, ceil_mode=False)\n",
      "    (4): Conv2d(16, 32, kernel_size=(3, 3), stride=(1, 1))\n",
      "    (5): ReLU(inplace=True)\n",
      "    (6): BatchNorm2d(32, eps=1e-05, momentum=0.1, affine=True, track_running_stats=True)\n",
      "    (7): MaxPool2d(kernel_size=2, stride=2, padding=0, dilation=1, ceil_mode=False)\n",
      "    (8): Conv2d(32, 64, kernel_size=(3, 3), stride=(1, 1))\n",
      "    (9): ReLU(inplace=True)\n",
      "    (10): BatchNorm2d(64, eps=1e-05, momentum=0.1, affine=True, track_running_stats=True)\n",
      "    (11): MaxPool2d(kernel_size=2, stride=2, padding=0, dilation=1, ceil_mode=False)\n",
      "  )\n",
      "  (dense_layers): Sequential(\n",
      "    (0): Linear(in_features=6400, out_features=1000, bias=True)\n",
      "    (1): ReLU(inplace=True)\n",
      "    (2): Dropout(p=0.5, inplace=False)\n",
      "    (3): Linear(in_features=1000, out_features=100, bias=True)\n",
      "    (4): ReLU(inplace=True)\n",
      "    (5): Dropout(p=0.5, inplace=False)\n",
      "    (6): Linear(in_features=100, out_features=100, bias=True)\n",
      "    (7): ReLU(inplace=True)\n",
      "    (8): Dropout(p=0.5, inplace=False)\n",
      "    (9): Linear(in_features=100, out_features=2, bias=True)\n",
      "  )\n",
      ")\n",
      "output size: torch.Size([1, 2])\n"
     ]
    }
   ],
   "source": [
    "model.model_test(model.InteractionValueNet)"
   ]
  },
  {
   "cell_type": "code",
   "execution_count": 15,
   "id": "hkmnQ7KWr7yw",
   "metadata": {
    "id": "hkmnQ7KWr7yw"
   },
   "outputs": [],
   "source": [
    "__HYPERPARAMS__ = [\n",
    "    'weight_decay',\n",
    "    'prob_drop',\n",
    "    'maxpool_stride',\n",
    "    'maxpool_kernel_size',\n",
    "    'lr',\n",
    "    'fc1_nodes',\n",
    "    'fc2_nodes',\n",
    "    'fc3_nodes',\n",
    "    'conv_stride',\n",
    "    'conv_kernel_size',\n",
    "    'conv_config_num',\n",
    "    'batch_size',\n",
    "    'momentum' # for SGD\n",
    "]\n",
    "\n",
    "__BEST_MODELS__ = {\n",
    "    \"vgg_adam\":[[0.001,0.2,2,3,0.0005,500,100,50,1,3,7,64,0],\n",
    "                [0.01,0.1,2,3,0.001,1000,1000,50,1,3,4,64,0],\n",
    "                [0.001,0.7,2,5,0.0005,500,100,500,1,5,5,64,0],\n",
    "                [0,0.1,2,5,0.001,1000,100,50,1,3,5,128,0],\n",
    "                [0.01,0.3,2,5,0.0005,500,1000,100,1,3,5,128,0]],\n",
    "    \n",
    "    \"vgg_sgd\":[[0.01,0.4,2,2,0.001,1500,100,0,1,3,6,64,0.9],\n",
    "               [0.001,0.7,2,5,0.01,1500,100,100,1,3,1,64,0.9],\n",
    "               [0.0001,0.3,2,5,0.005,1000,50,1000,1,3,5,64,0.9],\n",
    "               [0.001,0.4,2,5,0.01,500,500,1000,1,3,5,128,0.7],\n",
    "               [0.0001,0.2,2,5,0.001,500,500,0,1,3,5,128,0.9]],\n",
    "    \n",
    "    \"res_adam\":[[0.0001,0,0,0,0.001,0,0,0,1,3,1,128,0],\n",
    "                [0,0,0,0,0.001,0,0,0,1,3,1,64,0],\n",
    "                [0,0,0,0,0.001,0,0,0,1,3,1,128,0]]\n",
    "}\n",
    "\n",
    "__BEST_MODEL_PARAMS__ = dict()\n",
    "\n",
    "for n in __BEST_MODELS__:\n",
    "    sets = __BEST_MODELS__[n]\n",
    "    __BEST_MODEL_PARAMS__[n] = [{p:sets[j][i] for i,p in enumerate(__HYPERPARAMS__)} for j in range(len(sets))]\n"
   ]
  },
  {
   "cell_type": "code",
   "execution_count": 16,
   "id": "f67006a4-e7f9-419a-878b-e3d527a4eced",
   "metadata": {
    "colab": {
     "base_uri": "https://localhost:8080/"
    },
    "id": "f67006a4-e7f9-419a-878b-e3d527a4eced",
    "outputId": "dcad879f-ce41-4a94-a14a-98fe12da1d82"
   },
   "outputs": [
    {
     "name": "stdout",
     "output_type": "stream",
     "text": [
      "user_params['conv_config']: 6\n",
      "Data loaded, train_data:4000, test_data:1000 (20.00%)\n",
      "train_mean: 0.00107485 train_std: 0.8368467868716937\n",
      "num param sets: 4\n",
      "----------------------------------------------------------------------------------------------------\n",
      "0 {'weight_decay': 0.0001, 'prob_drop': 0, 'maxpool_stride': 0, 'maxpool_kernel_size': 0, 'lr': 0.001, 'fc1_nodes': 0, 'fc2_nodes': 0, 'fc3_nodes': 0, 'conv_stride': 1, 'conv_kernel_size': 3, 'conv_config_num': 1, 'batch_size': 128, 'momentum': 0}\n",
      "----------------------------------------------------------------------------------------------------\n",
      "| ID | GPU | MEM |\n",
      "------------------\n"
     ]
    },
    {
     "name": "stderr",
     "output_type": "stream",
     "text": [
      "  0%|                                                   | 0/400 [01:08<?, ?it/s]\n"
     ]
    },
    {
     "name": "stdout",
     "output_type": "stream",
     "text": [
      "save logs: test.pkl\n"
     ]
    }
   ],
   "source": [
    "import torch.optim as optim\n",
    "\n",
    "hyperopt.run_resnet(n_params=None, fin=\"./demo/ibm_data_by_density_70.pkl\", fout='test.pkl', density=70, custom_params=__BEST_MODEL_PARAMS__['res_adam'], optimizer=optim.Adam)"
   ]
  },
  {
   "cell_type": "code",
   "execution_count": 6,
   "id": "7e57dd9e-1974-4cfc-a055-4676191e168a",
   "metadata": {
    "colab": {
     "base_uri": "https://localhost:8080/"
    },
    "id": "7e57dd9e-1974-4cfc-a055-4676191e168a",
    "outputId": "59b0c92c-0b8a-4f8a-f1de-992eaed42cae"
   },
   "outputs": [
    {
     "name": "stdout",
     "output_type": "stream",
     "text": [
      "csbjDeepLearning  sample_data  test.pkl\n"
     ]
    }
   ],
   "source": [
    "!ls"
   ]
  },
  {
   "cell_type": "code",
   "execution_count": 7,
   "id": "HQweaMpRq_tn",
   "metadata": {
    "colab": {
     "base_uri": "https://localhost:8080/"
    },
    "id": "HQweaMpRq_tn",
    "outputId": "ac78ef90-da75-46c2-fae1-4f5f9cb94f9b"
   },
   "outputs": [
    {
     "name": "stdout",
     "output_type": "stream",
     "text": [
      "/content\n"
     ]
    }
   ],
   "source": [
    "!pwd"
   ]
  },
  {
   "cell_type": "code",
   "execution_count": 9,
   "id": "GGecA7GzrBnO",
   "metadata": {
    "id": "GGecA7GzrBnO"
   },
   "outputs": [],
   "source": [
    "import pickle\n",
    "test_log = pickle.load(open('test.pkl','rb'))"
   ]
  },
  {
   "cell_type": "code",
   "execution_count": 10,
   "id": "34LWPLfQrHEV",
   "metadata": {
    "colab": {
     "base_uri": "https://localhost:8080/"
    },
    "id": "34LWPLfQrHEV",
    "outputId": "750ce99d-9800-42a4-fa9e-d34c61fa4d2d"
   },
   "outputs": [
    {
     "data": {
      "text/plain": [
       "[]"
      ]
     },
     "execution_count": 10,
     "metadata": {},
     "output_type": "execute_result"
    }
   ],
   "source": [
    "test_log"
   ]
  },
  {
   "cell_type": "code",
   "execution_count": null,
   "id": "7-FcvehYrMZ8",
   "metadata": {
    "id": "7-FcvehYrMZ8"
   },
   "outputs": [],
   "source": []
  }
 ],
 "metadata": {
  "accelerator": "GPU",
  "colab": {
   "include_colab_link": true,
   "name": "first_model.ipynb",
   "provenance": []
  },
  "kernelspec": {
   "display_name": "Python 3 (ipykernel)",
   "language": "python",
   "name": "python3"
  },
  "language_info": {
   "codemirror_mode": {
    "name": "ipython",
    "version": 3
   },
   "file_extension": ".py",
   "mimetype": "text/x-python",
   "name": "python",
   "nbconvert_exporter": "python",
   "pygments_lexer": "ipython3",
   "version": "3.9.7"
  }
 },
 "nbformat": 4,
 "nbformat_minor": 5
}
